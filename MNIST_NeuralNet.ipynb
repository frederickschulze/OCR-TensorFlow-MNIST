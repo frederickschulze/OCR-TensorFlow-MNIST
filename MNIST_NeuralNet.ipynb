{
  "nbformat": 4,
  "nbformat_minor": 0,
  "metadata": {
    "colab": {
      "provenance": []
    },
    "kernelspec": {
      "name": "python3",
      "display_name": "Python 3"
    },
    "language_info": {
      "name": "python"
    }
  },
  "cells": [
    {
      "cell_type": "code",
      "execution_count": null,
      "metadata": {
        "id": "WiqWYl5ibxCG",
        "colab": {
          "base_uri": "https://localhost:8080/"
        },
        "outputId": "497208c1-6e91-4700-c0a1-4d5a6b8dd959"
      },
      "outputs": [
        {
          "output_type": "stream",
          "name": "stdout",
          "text": [
            "Tensorflow version: 2.18.0\n"
          ]
        }
      ],
      "source": [
        "  # number of looks needed:\n",
        "import tensorflow as tf\n",
        "import numpy as np\n",
        "from tensorflow import keras\n",
        "from keras import layers\n",
        "import matplotlib.pyplot as plt\n",
        "\n",
        "print(\"Tensorflow version:\", tf.__version__)"
      ]
    },
    {
      "cell_type": "code",
      "source": [
        "# x is pixel values, y is labels\n",
        "(xTrain, yTrain), (xTest, yTest) = tf.keras.datasets.mnist.load_data()\n",
        "print(\"xTrain Shape: \", xTrain.shape)\n",
        "print(\"yTrain Shape: \", yTrain.shape)\n",
        "print(\"xTest Shape: \", xTest.shape)\n",
        "print(\"yTest Shape: \", yTest.shape)\n",
        "print(xTrain.shape[0], \" training images with resolution: \", xTrain.shape[1],\"x\",xTrain.shape[2])\n",
        "print(xTest.shape[0], \" test images with resolution: \", xTest.shape[1],\"x\",xTest.shape[2])\n"
      ],
      "metadata": {
        "colab": {
          "base_uri": "https://localhost:8080/"
        },
        "id": "CtClIlOYxTGV",
        "outputId": "a9127c99-63fe-46df-8d31-48b14d004507"
      },
      "execution_count": null,
      "outputs": [
        {
          "output_type": "stream",
          "name": "stdout",
          "text": [
            "Downloading data from https://storage.googleapis.com/tensorflow/tf-keras-datasets/mnist.npz\n",
            "\u001b[1m11490434/11490434\u001b[0m \u001b[32m━━━━━━━━━━━━━━━━━━━━\u001b[0m\u001b[37m\u001b[0m \u001b[1m1s\u001b[0m 0us/step\n",
            "xTrain Shape:  (60000, 28, 28)\n",
            "yTrain Shape:  (60000,)\n",
            "xTest Shape:  (10000, 28, 28)\n",
            "yTest Shape:  (10000,)\n",
            "60000  training images with resolution:  28 x 28\n",
            "10000  test images with resolution:  28 x 28\n"
          ]
        }
      ]
    },
    {
      "cell_type": "code",
      "source": [
        "print(\"Example first 10 numbers\")\n",
        "plt.figure(figsize=(5,2))\n",
        "for i in range(10):\n",
        "  plt.subplot(2,5,i+1)\n",
        "  plt.grid(False)\n",
        "  plt.xticks([])\n",
        "  plt.yticks([])\n",
        "  plt.imshow(xTrain[i], cmap='gray')\n",
        "  plt.colorbar()"
      ],
      "metadata": {
        "colab": {
          "base_uri": "https://localhost:8080/",
          "height": 216
        },
        "id": "l_OsnF8YaxnE",
        "outputId": "22c609df-d4aa-436b-e13b-327aaf08c2e4"
      },
      "execution_count": null,
      "outputs": [
        {
          "output_type": "stream",
          "name": "stdout",
          "text": [
            "Example first 10 numbers\n"
          ]
        },
        {
          "output_type": "display_data",
          "data": {
            "text/plain": [
              "<Figure size 500x200 with 20 Axes>"
            ],
            "image/png": "[encoded data removed]"
          },
          "metadata": {}
        }
      ]
    },
    {
      "cell_type": "code",
      "source": [
        "print()\n",
        "(xTrain, xTest) = (xTrain.astype('float32')/255.0, xTest.astype('float32')/255.0)\n",
        "print(type(xTrain[0,0,0]))\n",
        "xTrain.shape"
      ],
      "metadata": {
        "colab": {
          "base_uri": "https://localhost:8080/"
        },
        "id": "dohK7e4X0x1G",
        "outputId": "96bb1d98-ea3c-4ffc-f9af-7ae4164c91c4"
      },
      "execution_count": null,
      "outputs": [
        {
          "output_type": "stream",
          "name": "stdout",
          "text": [
            "\n",
            "<class 'numpy.float32'>\n"
          ]
        },
        {
          "output_type": "execute_result",
          "data": {
            "text/plain": [
              "(60000, 28, 28)"
            ]
          },
          "metadata": {},
          "execution_count": 4
        }
      ]
    },
    {
      "cell_type": "markdown",
      "source": [
        "xTrain and xTest must be expanded because this is a CNN. Conv2D requires a 3 dimensional input because it can receive batches of n images. In this case, it receives individual images where n=1."
      ],
      "metadata": {
        "id": "B7iVM4FLSEGA"
      }
    },
    {
      "cell_type": "code",
      "source": [
        "xTrain = np.expand_dims(xTrain, -1)\n",
        "xTrain.shape"
      ],
      "metadata": {
        "colab": {
          "base_uri": "https://localhost:8080/"
        },
        "id": "AtxmVn_HQ_l5",
        "outputId": "7e665ddf-dd43-463e-af86-90c05532b4ea"
      },
      "execution_count": null,
      "outputs": [
        {
          "output_type": "execute_result",
          "data": {
            "text/plain": [
              "(60000, 28, 28, 1)"
            ]
          },
          "metadata": {},
          "execution_count": 5
        }
      ]
    },
    {
      "cell_type": "code",
      "source": [
        "model = tf.keras.Sequential(\n",
        "    [\n",
        "        layers.Conv2D(32, kernel_size=(3, 3), activation=\"relu\", input_shape=(28,28,1)), #reason the input is 28,28,1 is because conv2d expects a batch of images but we are feeding 1 at a time\n",
        "        layers.MaxPooling2D(pool_size=(2, 2)),\n",
        "        layers.Conv2D(64, kernel_size=(3, 3), activation=\"relu\"),\n",
        "        layers.MaxPooling2D(pool_size=(2, 2)),\n",
        "        layers.Flatten(),\n",
        "        layers.Dropout(0.3),\n",
        "        layers.Dense(10, activation=\"softmax\"),\n",
        "    ]\n",
        ")"
      ],
      "metadata": {
        "id": "MG28sKKcw5o5",
        "colab": {
          "base_uri": "https://localhost:8080/"
        },
        "outputId": "565f5ce3-87d8-478d-a9bc-7ecd4b43aa42"
      },
      "execution_count": null,
      "outputs": [
        {
          "output_type": "stream",
          "name": "stderr",
          "text": [
            "/usr/local/lib/python3.11/dist-packages/keras/src/layers/convolutional/base_conv.py:107: UserWarning: Do not pass an `input_shape`/`input_dim` argument to a layer. When using Sequential models, prefer using an `Input(shape)` object as the first layer in the model instead.\n",
            "  super().__init__(activity_regularizer=activity_regularizer, **kwargs)\n"
          ]
        }
      ]
    },
    {
      "cell_type": "code",
      "source": [
        "# This converts the labels 0-9 to 1/0 encoded labels\n",
        "# aka 5 converts to [0,0,0,0,0,1,0,0,0,0]\n",
        "# This increases the rank of the matrix by one (expands dimension)\n",
        "#   Size of the newest dimension = highest integer of previous\n",
        "#\n",
        "# However, the default yTrain and yTest can be used with sparse categorical. Categorical just seems to be used in many examples.\n",
        "print(\"yTrain Before: \", yTrain[:10])\n",
        "print(yTrain.shape)\n",
        "yTrainCat = keras.utils.to_categorical(yTrain, 10)\n",
        "yTestCat = keras.utils.to_categorical(yTest, 10)\n",
        "print(\"Used keras.utils.to_categorical\")\n",
        "print(\"yTrainCat after: \", yTrainCat[:10])\n",
        "print(yTrainCat.shape)"
      ],
      "metadata": {
        "colab": {
          "base_uri": "https://localhost:8080/"
        },
        "id": "uIejCGMll6jT",
        "outputId": "7491c053-d9a4-4c0a-86bc-e4306c79bf4a"
      },
      "execution_count": null,
      "outputs": [
        {
          "output_type": "stream",
          "name": "stdout",
          "text": [
            "yTrain Before:  [5 0 4 1 9 2 1 3 1 4]\n",
            "(60000,)\n",
            "Used keras.utils.to_categorical\n",
            "yTrainCat after:  [[0. 0. 0. 0. 0. 1. 0. 0. 0. 0.]\n",
            " [1. 0. 0. 0. 0. 0. 0. 0. 0. 0.]\n",
            " [0. 0. 0. 0. 1. 0. 0. 0. 0. 0.]\n",
            " [0. 1. 0. 0. 0. 0. 0. 0. 0. 0.]\n",
            " [0. 0. 0. 0. 0. 0. 0. 0. 0. 1.]\n",
            " [0. 0. 1. 0. 0. 0. 0. 0. 0. 0.]\n",
            " [0. 1. 0. 0. 0. 0. 0. 0. 0. 0.]\n",
            " [0. 0. 0. 1. 0. 0. 0. 0. 0. 0.]\n",
            " [0. 1. 0. 0. 0. 0. 0. 0. 0. 0.]\n",
            " [0. 0. 0. 0. 1. 0. 0. 0. 0. 0.]]\n",
            "(60000, 10)\n"
          ]
        }
      ]
    },
    {
      "cell_type": "code",
      "source": [
        "batch_size = 128\n",
        "epochs = 4\n",
        "\n",
        "model.compile(loss=\"categorical_crossentropy\", optimizer=\"adam\", metrics=[\"accuracy\"])\n",
        "\n",
        "model.fit(xTrain, yTrainCat, epochs=epochs, validation_split=0.1)\n",
        "# Default batch size is 32, which is why there are 1688 per epoch with no specification (54016/32)\n",
        "# It would be 422 per epoch if batch size set to 128\n",
        "# Batch size: How often the algorithm recaculates a gradient\n",
        "  # The gradient calculated is the changes to each weight that minimizes error\n",
        "# There are 1688*32 images trained per epoch, therefore 54016 total (actually there's 54k and 16 left out)\n",
        "\n",
        "# Validation split: Split off a portion of the training dataset to be used for validation.\n",
        "  # With validation_split=0.1 the 60k images are separated to 54k training and 6k validation\n"
      ],
      "metadata": {
        "colab": {
          "base_uri": "https://localhost:8080/"
        },
        "id": "N5NGNphJmP_X",
        "outputId": "f7636ccc-e8cf-4edf-b828-802bde39c5a4"
      },
      "execution_count": null,
      "outputs": [
        {
          "output_type": "stream",
          "name": "stdout",
          "text": [
            "Epoch 1/4\n",
            "\u001b[1m1688/1688\u001b[0m \u001b[32m━━━━━━━━━━━━━━━━━━━━\u001b[0m\u001b[37m\u001b[0m \u001b[1m48s\u001b[0m 27ms/step - accuracy: 0.8741 - loss: 0.4154 - val_accuracy: 0.9823 - val_loss: 0.0600\n",
            "Epoch 2/4\n",
            "\u001b[1m1688/1688\u001b[0m \u001b[32m━━━━━━━━━━━━━━━━━━━━\u001b[0m\u001b[37m\u001b[0m \u001b[1m43s\u001b[0m 25ms/step - accuracy: 0.9779 - loss: 0.0751 - val_accuracy: 0.9873 - val_loss: 0.0447\n",
            "Epoch 3/4\n",
            "\u001b[1m1688/1688\u001b[0m \u001b[32m━━━━━━━━━━━━━━━━━━━━\u001b[0m\u001b[37m\u001b[0m \u001b[1m83s\u001b[0m 26ms/step - accuracy: 0.9845 - loss: 0.0514 - val_accuracy: 0.9883 - val_loss: 0.0388\n",
            "Epoch 4/4\n",
            "\u001b[1m1688/1688\u001b[0m \u001b[32m━━━━━━━━━━━━━━━━━━━━\u001b[0m\u001b[37m\u001b[0m \u001b[1m80s\u001b[0m 25ms/step - accuracy: 0.9849 - loss: 0.0456 - val_accuracy: 0.9902 - val_loss: 0.0351\n"
          ]
        },
        {
          "output_type": "execute_result",
          "data": {
            "text/plain": [
              "<keras.src.callbacks.history.History at 0x79bb7c0d97d0>"
            ]
          },
          "metadata": {},
          "execution_count": 8
        }
      ]
    },
    {
      "cell_type": "code",
      "source": [
        "# Alternate code\n",
        "print(\"Images for 5628-5638\")\n",
        "plt.figure(figsize=(5,2))\n",
        "for i in range(10):\n",
        "  plt.subplot(2,5,i+1)\n",
        "  plt.grid(False)\n",
        "  plt.xticks([])\n",
        "  plt.yticks([])\n",
        "  plt.imshow(xTest[5628+i], cmap='gray')\n",
        "  plt.colorbar()"
      ],
      "metadata": {
        "id": "X4JxGS3Agq7o",
        "colab": {
          "base_uri": "https://localhost:8080/",
          "height": 222
        },
        "outputId": "4e907238-29bb-4ad9-b171-f0ff632031b7"
      },
      "execution_count": null,
      "outputs": [
        {
          "output_type": "stream",
          "name": "stdout",
          "text": [
            "Numbers 5628-5638\n"
          ]
        },
        {
          "output_type": "display_data",
          "data": {
            "text/plain": [
              "<Figure size 500x200 with 20 Axes>"
            ],
            "image/png": "[encoded data removed]"
          },
          "metadata": {}
        }
      ]
    },
    {
      "cell_type": "code",
      "source": [
        "probability_model = tf.keras.Sequential([\n",
        "  model,\n",
        "  tf.keras.layers.Softmax()\n",
        "])"
      ],
      "metadata": {
        "id": "5GE94GNype9-"
      },
      "execution_count": null,
      "outputs": []
    },
    {
      "cell_type": "code",
      "source": [
        "logitvals = probability_model(xTest[5628:5638])\n",
        "logitvals"
      ],
      "metadata": {
        "id": "984XPYcOG4Gy",
        "colab": {
          "base_uri": "https://localhost:8080/"
        },
        "outputId": "04ca2bee-e95c-4c42-f360-67aefbc306d8"
      },
      "execution_count": null,
      "outputs": [
        {
          "output_type": "execute_result",
          "data": {
            "text/plain": [
              "<tf.Tensor: shape=(10, 10), dtype=float32, numpy=\n",
              "array([[0.08533686, 0.08533686, 0.08533695, 0.23196737, 0.08533686,\n",
              "        0.08533753, 0.08533686, 0.08533691, 0.08533686, 0.08533689],\n",
              "       [0.08533683, 0.08533683, 0.23196805, 0.08533697, 0.08533683,\n",
              "        0.08533683, 0.08533683, 0.08533683, 0.08533724, 0.08533683],\n",
              "       [0.08535535, 0.23167516, 0.08535757, 0.0853557 , 0.08536337,\n",
              "        0.08535635, 0.08535532, 0.0854306 , 0.08536626, 0.08538418],\n",
              "       [0.08535278, 0.0853563 , 0.08535321, 0.08535283, 0.23171541,\n",
              "        0.08535337, 0.08535463, 0.08543672, 0.08537176, 0.08535293],\n",
              "       [0.08533684, 0.08533684, 0.08533684, 0.08533707, 0.08533684,\n",
              "        0.23196776, 0.08533684, 0.08533684, 0.08533686, 0.0853373 ],\n",
              "       [0.08533688, 0.08533688, 0.08533688, 0.08533689, 0.08533688,\n",
              "        0.23196727, 0.08533689, 0.08533688, 0.08533769, 0.08533693],\n",
              "       [0.08611206, 0.08609767, 0.21947877, 0.08741757, 0.08609767,\n",
              "        0.08609785, 0.08609775, 0.08609882, 0.0903667 , 0.08613519],\n",
              "       [0.08533719, 0.08533719, 0.08533719, 0.23196235, 0.08533719,\n",
              "        0.08534008, 0.08533719, 0.08533719, 0.08533727, 0.08533721],\n",
              "       [0.08534508, 0.08534508, 0.23183724, 0.08539879, 0.08534508,\n",
              "        0.08534508, 0.08534508, 0.08534522, 0.0853456 , 0.08534769],\n",
              "       [0.08534691, 0.23181057, 0.08534815, 0.08534699, 0.08535392,\n",
              "        0.0853506 , 0.08534711, 0.0853539 , 0.08539112, 0.08535072]],\n",
              "      dtype=float32)>"
            ]
          },
          "metadata": {},
          "execution_count": 11
        }
      ]
    },
    {
      "cell_type": "code",
      "source": [
        "predictions=[]\n",
        "for i in range(0,9):\n",
        "  predictions[i] = tf.argmax(logitvals[i])"
      ],
      "metadata": {
        "colab": {
          "base_uri": "https://localhost:8080/",
          "height": 176
        },
        "id": "vMAu0sZpLZ0m",
        "outputId": "74faec59-72e4-45c4-8bc3-e93944eb2376"
      },
      "execution_count": null,
      "outputs": [
        {
          "output_type": "error",
          "ename": "IndexError",
          "evalue": "list assignment index out of range",
          "traceback": [
            "\u001b[0;31m---------------------------------------------------------------------------\u001b[0m",
            "\u001b[0;31mIndexError\u001b[0m                                Traceback (most recent call last)",
            "\u001b[0;32m<ipython-input-12-17d0dac7323f>\u001b[0m in \u001b[0;36m<cell line: 0>\u001b[0;34m()\u001b[0m\n\u001b[1;32m      1\u001b[0m \u001b[0mpredictions\u001b[0m\u001b[0;34m=\u001b[0m\u001b[0;34m[\u001b[0m\u001b[0;34m]\u001b[0m\u001b[0;34m\u001b[0m\u001b[0;34m\u001b[0m\u001b[0m\n\u001b[1;32m      2\u001b[0m \u001b[0;32mfor\u001b[0m \u001b[0mi\u001b[0m \u001b[0;32min\u001b[0m \u001b[0mrange\u001b[0m\u001b[0;34m(\u001b[0m\u001b[0;36m0\u001b[0m\u001b[0;34m,\u001b[0m\u001b[0;36m9\u001b[0m\u001b[0;34m)\u001b[0m\u001b[0;34m:\u001b[0m\u001b[0;34m\u001b[0m\u001b[0;34m\u001b[0m\u001b[0m\n\u001b[0;32m----> 3\u001b[0;31m   \u001b[0mpredictions\u001b[0m\u001b[0;34m[\u001b[0m\u001b[0mi\u001b[0m\u001b[0;34m]\u001b[0m \u001b[0;34m=\u001b[0m \u001b[0mtf\u001b[0m\u001b[0;34m.\u001b[0m\u001b[0margmax\u001b[0m\u001b[0;34m(\u001b[0m\u001b[0mlogitvals\u001b[0m\u001b[0;34m[\u001b[0m\u001b[0mi\u001b[0m\u001b[0;34m]\u001b[0m\u001b[0;34m)\u001b[0m\u001b[0;34m\u001b[0m\u001b[0;34m\u001b[0m\u001b[0m\n\u001b[0m",
            "\u001b[0;31mIndexError\u001b[0m: list assignment index out of range"
          ]
        }
      ]
    },
    {
      "cell_type": "code",
      "source": [
        "tf.argmax(logitvals[9])"
      ],
      "metadata": {
        "id": "Xco3MLj0IlDJ",
        "colab": {
          "base_uri": "https://localhost:8080/"
        },
        "outputId": "8580602f-7194-4be8-ff08-3aded0040e8e"
      },
      "execution_count": null,
      "outputs": [
        {
          "output_type": "execute_result",
          "data": {
            "text/plain": [
              "<tf.Tensor: shape=(), dtype=int64, numpy=1>"
            ]
          },
          "metadata": {},
          "execution_count": 13
        }
      ]
    },
    {
      "cell_type": "code",
      "source": [],
      "metadata": {
        "id": "fXohDcZyMOgz"
      },
      "execution_count": null,
      "outputs": []
    }
  ]
}
