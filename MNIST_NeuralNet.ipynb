{
  "nbformat": 4,
  "nbformat_minor": 0,
  "metadata": {
    "colab": {
      "provenance": []
    },
    "kernelspec": {
      "name": "python3",
      "display_name": "Python 3"
    },
    "language_info": {
      "name": "python"
    }
  },
  "cells": [
    {
      "cell_type": "code",
      "execution_count": 43,
      "metadata": {
        "id": "WiqWYl5ibxCG",
        "colab": {
          "base_uri": "https://localhost:8080/"
        },
        "outputId": "177771ea-039c-4698-a76f-df615ef4f5b0"
      },
      "outputs": [
        {
          "output_type": "stream",
          "name": "stdout",
          "text": [
            "Tensorflow version: 2.18.0\n"
          ]
        }
      ],
      "source": [
        "  # number of looks needed:\n",
        "import tensorflow as tf\n",
        "import numpy as np\n",
        "from tensorflow import keras\n",
        "from keras import layers\n",
        "import matplotlib.pyplot as plt\n",
        "\n",
        "print(\"Tensorflow version:\", tf.__version__)"
      ]
    },
    {
      "cell_type": "code",
      "source": [
        "# x is pixel values, y is labels\n",
        "(xTrain, yTrain), (xTest, yTest) = tf.keras.datasets.mnist.load_data()\n",
        "print(\"xTrain Shape: \", xTrain.shape)\n",
        "print(\"yTrain Shape: \", yTrain.shape)\n",
        "print(\"xTest Shape: \", xTest.shape)\n",
        "print(\"yTest Shape: \", yTest.shape)\n",
        "print(xTrain.shape[0], \" training images with resolution: \", xTrain.shape[1],\"x\",xTrain.shape[2])\n",
        "print(xTest.shape[0], \" test images with resolution: \", xTest.shape[1],\"x\",xTest.shape[2])\n"
      ],
      "metadata": {
        "colab": {
          "base_uri": "https://localhost:8080/"
        },
        "id": "CtClIlOYxTGV",
        "outputId": "232e5012-33f7-473a-b630-b2f098c49752"
      },
      "execution_count": 3,
      "outputs": [
        {
          "output_type": "stream",
          "name": "stdout",
          "text": [
            "Downloading data from https://storage.googleapis.com/tensorflow/tf-keras-datasets/mnist.npz\n",
            "\u001b[1m11490434/11490434\u001b[0m \u001b[32m━━━━━━━━━━━━━━━━━━━━\u001b[0m\u001b[37m\u001b[0m \u001b[1m0s\u001b[0m 0us/step\n",
            "xTrain Shape:  (60000, 28, 28)\n",
            "yTrain Shape:  (60000,)\n",
            "xTest Shape:  (10000, 28, 28)\n",
            "yTest Shape:  (10000,)\n",
            "60000  training images with resolution:  28 x 28\n",
            "10000  test images with resolution:  28 x 28\n"
          ]
        }
      ]
    },
    {
      "cell_type": "code",
      "source": [
        "print(\"Example first 10 numbers\")\n",
        "plt.figure(figsize=(5,2))\n",
        "for i in range(10):\n",
        "  plt.subplot(2,5,i+1)\n",
        "  plt.grid(False)\n",
        "  plt.xticks([])\n",
        "  plt.yticks([])\n",
        "  plt.imshow(xTrain[i], cmap='gray')\n",
        "  plt.colorbar()"
      ],
      "metadata": {
        "colab": {
          "base_uri": "https://localhost:8080/",
          "height": 216
        },
        "id": "l_OsnF8YaxnE",
        "outputId": "5ea225a8-85df-42c7-d54a-78cfe9577724"
      },
      "execution_count": 4,
      "outputs": [
        {
          "output_type": "stream",
          "name": "stdout",
          "text": [
            "Example first 10 numbers\n"
          ]
        },
        {
          "output_type": "display_data",
          "data": {
            "text/plain": [
              "<Figure size 500x200 with 20 Axes>"
            ],
            "image/png": "[encoded data removed]"
          },
          "metadata": {}
        }
      ]
    },
    {
      "cell_type": "code",
      "source": [
        "print()\n",
        "(xTrain, xTest) = (xTrain.astype('float32')/255.0, xTest.astype('float32')/255.0)\n",
        "print(type(xTrain[0,0,0]))\n",
        "xTrain.shape"
      ],
      "metadata": {
        "colab": {
          "base_uri": "https://localhost:8080/"
        },
        "id": "dohK7e4X0x1G",
        "outputId": "f7dcdc52-5de1-4696-c075-bd1ccae208d5"
      },
      "execution_count": 5,
      "outputs": [
        {
          "output_type": "stream",
          "name": "stdout",
          "text": [
            "\n",
            "<class 'numpy.float32'>\n"
          ]
        },
        {
          "output_type": "execute_result",
          "data": {
            "text/plain": [
              "(60000, 28, 28)"
            ]
          },
          "metadata": {},
          "execution_count": 5
        }
      ]
    },
    {
      "cell_type": "markdown",
      "source": [
        "xTrain and xTest must be expanded because this is a CNN. Conv2D requires a 3 dimensional input because it can receive batches of n images. In this case, it receives individual images where n=1."
      ],
      "metadata": {
        "id": "B7iVM4FLSEGA"
      }
    },
    {
      "cell_type": "code",
      "source": [
        "xTrain = np.expand_dims(xTrain, -1)\n",
        "xTrain.shape"
      ],
      "metadata": {
        "colab": {
          "base_uri": "https://localhost:8080/"
        },
        "id": "AtxmVn_HQ_l5",
        "outputId": "cba8e7b7-d401-45c8-8933-5b99ba1227c4"
      },
      "execution_count": 6,
      "outputs": [
        {
          "output_type": "execute_result",
          "data": {
            "text/plain": [
              "(60000, 28, 28, 1)"
            ]
          },
          "metadata": {},
          "execution_count": 6
        }
      ]
    },
    {
      "cell_type": "code",
      "source": [
        "model = tf.keras.Sequential(\n",
        "    [\n",
        "        layers.Conv2D(32, kernel_size=(3, 3), activation=\"relu\", input_shape=(28,28,1)), #reason the input is 28,28,1 is because conv2d expects a batch of images but we are feeding 1 at a time\n",
        "        layers.MaxPooling2D(pool_size=(2, 2)),\n",
        "        layers.Conv2D(64, kernel_size=(3, 3), activation=\"relu\"),\n",
        "        layers.MaxPooling2D(pool_size=(2, 2)),\n",
        "        layers.Flatten(),\n",
        "        layers.Dropout(0.3),\n",
        "        layers.Dense(10, activation=\"softmax\"),\n",
        "    ]\n",
        ")"
      ],
      "metadata": {
        "id": "MG28sKKcw5o5",
        "colab": {
          "base_uri": "https://localhost:8080/"
        },
        "outputId": "77be3e15-a4ab-4c30-9c8b-906921e48ebc"
      },
      "execution_count": 7,
      "outputs": [
        {
          "output_type": "stream",
          "name": "stderr",
          "text": [
            "/usr/local/lib/python3.11/dist-packages/keras/src/layers/convolutional/base_conv.py:107: UserWarning: Do not pass an `input_shape`/`input_dim` argument to a layer. When using Sequential models, prefer using an `Input(shape)` object as the first layer in the model instead.\n",
            "  super().__init__(activity_regularizer=activity_regularizer, **kwargs)\n"
          ]
        }
      ]
    },
    {
      "cell_type": "code",
      "source": [
        "# This converts the labels 0-9 to 1/0 encoded labels\n",
        "# aka 5 converts to [0,0,0,0,0,1,0,0,0,0]\n",
        "# This increases the rank of the matrix by one (expands dimension)\n",
        "#   Size of the newest dimension = highest integer of previous\n",
        "#\n",
        "# However, the default yTrain and yTest can be used with sparse categorical. Categorical just seems to be used in many examples.\n",
        "print(\"yTrain Before: \", yTrain[:10])\n",
        "print(yTrain.shape)\n",
        "yTrainCat = keras.utils.to_categorical(yTrain, 10)\n",
        "yTestCat = keras.utils.to_categorical(yTest, 10)\n",
        "print(\"Used keras.utils.to_categorical\")\n",
        "print(\"yTrainCat after: \", yTrainCat[:10])\n",
        "print(yTrainCat.shape)"
      ],
      "metadata": {
        "colab": {
          "base_uri": "https://localhost:8080/"
        },
        "id": "uIejCGMll6jT",
        "outputId": "c64a589c-cb02-45e9-c0c7-03a440811a00"
      },
      "execution_count": 8,
      "outputs": [
        {
          "output_type": "stream",
          "name": "stdout",
          "text": [
            "yTrain Before:  [5 0 4 1 9 2 1 3 1 4]\n",
            "(60000,)\n",
            "Used keras.utils.to_categorical\n",
            "yTrainCat after:  [[0. 0. 0. 0. 0. 1. 0. 0. 0. 0.]\n",
            " [1. 0. 0. 0. 0. 0. 0. 0. 0. 0.]\n",
            " [0. 0. 0. 0. 1. 0. 0. 0. 0. 0.]\n",
            " [0. 1. 0. 0. 0. 0. 0. 0. 0. 0.]\n",
            " [0. 0. 0. 0. 0. 0. 0. 0. 0. 1.]\n",
            " [0. 0. 1. 0. 0. 0. 0. 0. 0. 0.]\n",
            " [0. 1. 0. 0. 0. 0. 0. 0. 0. 0.]\n",
            " [0. 0. 0. 1. 0. 0. 0. 0. 0. 0.]\n",
            " [0. 1. 0. 0. 0. 0. 0. 0. 0. 0.]\n",
            " [0. 0. 0. 0. 1. 0. 0. 0. 0. 0.]]\n",
            "(60000, 10)\n"
          ]
        }
      ]
    },
    {
      "cell_type": "code",
      "source": [
        "batch_size = 128\n",
        "epochs = 4\n",
        "\n",
        "model.compile(loss=\"categorical_crossentropy\", optimizer=\"adam\", metrics=[\"accuracy\"])\n",
        "\n",
        "model.fit(xTrain, yTrainCat, epochs=epochs, validation_split=0.1)\n",
        "# Default batch size is 32, which is why there are 1688 per epoch with no specification (54016/32)\n",
        "# It would be 422 per epoch if batch size set to 128\n",
        "# Batch size: How often the algorithm recaculates a gradient\n",
        "  # The gradient calculated is the changes to each weight that minimizes error\n",
        "# There are 1688*32 images trained per epoch, therefore 54016 total (actually since there's 54k there's 16 as a rounding error)\n",
        "\n",
        "# Validation split: Split off a portion of the training dataset to be used for validation.\n",
        "  # With validation_split=0.1 the 60k images are separated to 54k training and 6k validation\n"
      ],
      "metadata": {
        "colab": {
          "base_uri": "https://localhost:8080/"
        },
        "id": "N5NGNphJmP_X",
        "outputId": "59ad8a48-024b-4806-89ff-25927483033a"
      },
      "execution_count": 9,
      "outputs": [
        {
          "output_type": "stream",
          "name": "stdout",
          "text": [
            "Epoch 1/4\n",
            "\u001b[1m1688/1688\u001b[0m \u001b[32m━━━━━━━━━━━━━━━━━━━━\u001b[0m\u001b[37m\u001b[0m \u001b[1m55s\u001b[0m 31ms/step - accuracy: 0.8685 - loss: 0.4275 - val_accuracy: 0.9827 - val_loss: 0.0606\n",
            "Epoch 2/4\n",
            "\u001b[1m1688/1688\u001b[0m \u001b[32m━━━━━━━━━━━━━━━━━━━━\u001b[0m\u001b[37m\u001b[0m \u001b[1m49s\u001b[0m 29ms/step - accuracy: 0.9753 - loss: 0.0780 - val_accuracy: 0.9878 - val_loss: 0.0437\n",
            "Epoch 3/4\n",
            "\u001b[1m1688/1688\u001b[0m \u001b[32m━━━━━━━━━━━━━━━━━━━━\u001b[0m\u001b[37m\u001b[0m \u001b[1m82s\u001b[0m 29ms/step - accuracy: 0.9828 - loss: 0.0535 - val_accuracy: 0.9903 - val_loss: 0.0380\n",
            "Epoch 4/4\n",
            "\u001b[1m1688/1688\u001b[0m \u001b[32m━━━━━━━━━━━━━━━━━━━━\u001b[0m\u001b[37m\u001b[0m \u001b[1m48s\u001b[0m 28ms/step - accuracy: 0.9851 - loss: 0.0452 - val_accuracy: 0.9897 - val_loss: 0.0333\n"
          ]
        },
        {
          "output_type": "execute_result",
          "data": {
            "text/plain": [
              "<keras.src.callbacks.history.History at 0x793c247d6c90>"
            ]
          },
          "metadata": {},
          "execution_count": 9
        }
      ]
    },
    {
      "cell_type": "code",
      "source": [
        "probability_model = tf.keras.Sequential([\n",
        "  model,\n",
        "  tf.keras.layers.Softmax()\n",
        "])"
      ],
      "metadata": {
        "id": "5GE94GNype9-"
      },
      "execution_count": 25,
      "outputs": []
    },
    {
      "cell_type": "code",
      "source": [
        "#Just to illustrate the output format of this model\n",
        "logitvals = probability_model(xTest[5628:5638])\n",
        "logitvals"
      ],
      "metadata": {
        "id": "984XPYcOG4Gy",
        "colab": {
          "base_uri": "https://localhost:8080/"
        },
        "outputId": "128aecb0-c609-4152-a54d-a3e0eca96c18"
      },
      "execution_count": 27,
      "outputs": [
        {
          "output_type": "execute_result",
          "data": {
            "text/plain": [
              "<tf.Tensor: shape=(10, 10), dtype=float32, numpy=\n",
              "array([[0.08533745, 0.08533745, 0.08534021, 0.23195799, 0.08533745,\n",
              "        0.08533953, 0.08533745, 0.08533748, 0.08533745, 0.08533747],\n",
              "       [0.08533674, 0.08533674, 0.23196931, 0.08533675, 0.08533674,\n",
              "        0.08533674, 0.08533674, 0.08533674, 0.08533675, 0.08533674],\n",
              "       [0.08534823, 0.23178878, 0.08534957, 0.08534894, 0.08536281,\n",
              "        0.08534825, 0.08534814, 0.08537003, 0.08538646, 0.08534874],\n",
              "       [0.08534644, 0.08535844, 0.08534916, 0.08534659, 0.23181608,\n",
              "        0.08534653, 0.08534645, 0.085355  , 0.08538891, 0.08534645],\n",
              "       [0.08533684, 0.08533684, 0.08533684, 0.08533736, 0.08533684,\n",
              "        0.2319676 , 0.08533684, 0.08533684, 0.08533686, 0.08533705],\n",
              "       [0.08533752, 0.08533752, 0.08533752, 0.08533753, 0.08533752,\n",
              "        0.23195703, 0.08533754, 0.08533752, 0.08534276, 0.08533752],\n",
              "       [0.08676212, 0.08676069, 0.20776144, 0.09434003, 0.08676069,\n",
              "        0.08676073, 0.08676072, 0.08676071, 0.09057098, 0.08676187],\n",
              "       [0.08533762, 0.08533762, 0.08533762, 0.2319555 , 0.08533762,\n",
              "        0.08534329, 0.08533762, 0.08533762, 0.0853379 , 0.08533762],\n",
              "       [0.08533689, 0.08533689, 0.23196703, 0.08533788, 0.08533689,\n",
              "        0.08533689, 0.08533689, 0.08533689, 0.08533689, 0.08533689],\n",
              "       [0.08534319, 0.23186858, 0.08534326, 0.08534313, 0.08535249,\n",
              "        0.08534328, 0.08534314, 0.08534638, 0.08537345, 0.08534317]],\n",
              "      dtype=float32)>"
            ]
          },
          "metadata": {},
          "execution_count": 27
        }
      ]
    },
    {
      "cell_type": "markdown",
      "source": [
        "Displaying some semi-random images from the test dataset:"
      ],
      "metadata": {
        "id": "7hgp1-BvnnpU"
      }
    },
    {
      "cell_type": "code",
      "source": [
        "# Alternate code\n",
        "print(\"Images #5628-5637\")\n",
        "plt.figure(figsize=(5,2))\n",
        "for i in range(10):\n",
        "  plt.subplot(2,5,i+1)\n",
        "  plt.grid(False)\n",
        "  plt.xticks([])\n",
        "  plt.yticks([])\n",
        "  plt.imshow(xTest[5628+i], cmap='gray')\n",
        "  #plt.colorbar() #turned off for now"
      ],
      "metadata": {
        "id": "X4JxGS3Agq7o",
        "colab": {
          "base_uri": "https://localhost:8080/",
          "height": 204
        },
        "outputId": "ab24e0a3-e830-41b0-8b27-76297e4a7499"
      },
      "execution_count": 28,
      "outputs": [
        {
          "output_type": "stream",
          "name": "stdout",
          "text": [
            "Images #5628-5637\n"
          ]
        },
        {
          "output_type": "display_data",
          "data": {
            "text/plain": [
              "<Figure size 500x200 with 10 Axes>"
            ],
            "image/png": "[encoded data removed]"
          },
          "metadata": {}
        }
      ]
    },
    {
      "cell_type": "markdown",
      "source": [
        "Here we see if the neural network predictions match the above images:"
      ],
      "metadata": {
        "id": "wM5bFGAsngJy"
      }
    },
    {
      "cell_type": "code",
      "source": [
        "predictions=[None]*10\n",
        "for i in range(0,10):\n",
        "  predictions[i] = tf.argmax(logitvals[i])\n",
        "\n",
        "nextline_val = (len(predictions)+1)//2\n",
        "print(\"Neural Network Predictions:\")\n",
        "for i,val in enumerate(predictions):\n",
        "  if i==nextline_val: print()\n",
        "  print(val.numpy(), end=\" \")"
      ],
      "metadata": {
        "colab": {
          "base_uri": "https://localhost:8080/"
        },
        "id": "vMAu0sZpLZ0m",
        "outputId": "c623634f-6b6e-44ea-80e7-83460b377f07"
      },
      "execution_count": 42,
      "outputs": [
        {
          "output_type": "stream",
          "name": "stdout",
          "text": [
            "Neural Network Predictions:\n",
            "3 2 1 4 5 \n",
            "5 2 3 2 1 "
          ]
        }
      ]
    }
  ]
}