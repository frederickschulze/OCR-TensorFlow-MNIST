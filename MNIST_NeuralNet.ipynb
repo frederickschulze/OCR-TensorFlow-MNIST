{
  "nbformat": 4,
  "nbformat_minor": 0,
  "metadata": {
    "colab": {
      "provenance": [],
      "gpuType": "T4"
    },
    "kernelspec": {
      "name": "python3",
      "display_name": "Python 3"
    },
    "language_info": {
      "name": "python"
    },
    "accelerator": "GPU"
  },
  "cells": [
    {
      "cell_type": "markdown",
      "source": [
        "This notebook was mostly developed after I'd gone through the TensorFlow tutorials. It implements a convolutional neural network for the MNIST dataset. I also include some figures and notes that helped me understand the workings of the program."
      ],
      "metadata": {
        "id": "H6bJ1XSG1JqG"
      }
    },
    {
      "cell_type": "code",
      "execution_count": 18,
      "metadata": {
        "id": "WiqWYl5ibxCG",
        "colab": {
          "base_uri": "https://localhost:8080/"
        },
        "outputId": "24fcce43-da9a-4f1a-913b-7f2c713837ce"
      },
      "outputs": [
        {
          "output_type": "stream",
          "name": "stdout",
          "text": [
            "Tensorflow version: 2.18.0\n"
          ]
        }
      ],
      "source": [
        "import tensorflow as tf\n",
        "import numpy as np\n",
        "from tensorflow import keras\n",
        "from keras import layers\n",
        "import matplotlib.pyplot as plt\n",
        "import random\n",
        "\n",
        "print(\"Tensorflow version:\", tf.__version__)"
      ]
    },
    {
      "cell_type": "code",
      "source": [
        "# x is pixel grayscale values, y is labels\n",
        "(xTrain, yTrain), (xTest, yTest) = tf.keras.datasets.mnist.load_data()\n",
        "print(\"xTrain Shape: \", xTrain.shape)\n",
        "print(\"yTrain Shape: \", yTrain.shape)\n",
        "print(\"xTest Shape: \", xTest.shape)\n",
        "print(\"yTest Shape: \", yTest.shape)\n",
        "print(xTrain.shape[0], \" training images with resolution: \", xTrain.shape[1],\"x\",xTrain.shape[2])\n",
        "print(xTest.shape[0], \" test images with resolution: \", xTest.shape[1],\"x\",xTest.shape[2])\n"
      ],
      "metadata": {
        "colab": {
          "base_uri": "https://localhost:8080/"
        },
        "id": "CtClIlOYxTGV",
        "outputId": "aecc09c1-7bb8-47d6-b015-4a764f94dbc0"
      },
      "execution_count": 24,
      "outputs": [
        {
          "output_type": "stream",
          "name": "stdout",
          "text": [
            "xTrain Shape:  (60000, 28, 28)\n",
            "yTrain Shape:  (60000,)\n",
            "xTest Shape:  (10000, 28, 28)\n",
            "yTest Shape:  (10000,)\n",
            "60000  training images with resolution:  28 x 28\n",
            "10000  test images with resolution:  28 x 28\n"
          ]
        }
      ]
    },
    {
      "cell_type": "code",
      "source": [
        "#Maybe these look better colors inverted\n",
        "xTrain_inverted = 255 - xTrain\n",
        "plt.figure(figsize=(10,4))\n",
        "for i in range(10):\n",
        "    plt.subplot(2, 5, i + 1)\n",
        "    plt.grid(False)\n",
        "    plt.xticks([])\n",
        "    plt.yticks([])\n",
        "    plt.imshow(xTrain_inverted[i], cmap='gray')\n",
        "    plt.colorbar()"
      ],
      "metadata": {
        "colab": {
          "base_uri": "https://localhost:8080/",
          "height": 353
        },
        "id": "m_xLlNKBsO67",
        "outputId": "7af4c883-b6ab-4814-e6a3-a3b4077e0e23"
      },
      "execution_count": 26,
      "outputs": [
        {
          "output_type": "display_data",
          "data": {
            "text/plain": [
              "<Figure size 1000x400 with 20 Axes>"
            ],
            "image/png": "[encoded data removed]"
          },
          "metadata": {}
        }
      ]
    },
    {
      "cell_type": "markdown",
      "source": [
        "Values must be normalized from 0-255 (8-bit) to a float in range (0,1):"
      ],
      "metadata": {
        "id": "zVTYAl03rqV5"
      }
    },
    {
      "cell_type": "code",
      "source": [
        "(xTrain, xTest) = (xTrain.astype('float32')/255.0, xTest.astype('float32')/255.0)\n",
        "print(type(xTrain[0,0,0]))\n",
        "xTrain.shape"
      ],
      "metadata": {
        "colab": {
          "base_uri": "https://localhost:8080/"
        },
        "id": "dohK7e4X0x1G",
        "outputId": "6878556d-c044-4bdb-e099-643ec54d2d13"
      },
      "execution_count": 5,
      "outputs": [
        {
          "output_type": "stream",
          "name": "stdout",
          "text": [
            "<class 'numpy.float32'>\n"
          ]
        },
        {
          "output_type": "execute_result",
          "data": {
            "text/plain": [
              "(60000, 28, 28)"
            ]
          },
          "metadata": {},
          "execution_count": 5
        }
      ]
    },
    {
      "cell_type": "markdown",
      "source": [
        "xTrain and xTest must be expanded because this is a CNN. Conv2D requires a 3 dimensional input because it can receive batches of n images. In this case, it receives individual images where n=1, mainly because these are grayscale."
      ],
      "metadata": {
        "id": "B7iVM4FLSEGA"
      }
    },
    {
      "cell_type": "code",
      "source": [
        "xTrain = np.expand_dims(xTrain, -1)\n",
        "print(\"Now that dims are expanded:\")\n",
        "print(xTrain.shape)"
      ],
      "metadata": {
        "colab": {
          "base_uri": "https://localhost:8080/"
        },
        "id": "AtxmVn_HQ_l5",
        "outputId": "0d6908d6-0444-4441-9225-98d5252db3e8"
      },
      "execution_count": 6,
      "outputs": [
        {
          "output_type": "stream",
          "name": "stdout",
          "text": [
            "Now that dims are expanded:\n",
            "(60000, 28, 28, 1)\n"
          ]
        }
      ]
    },
    {
      "cell_type": "code",
      "source": [
        "model = tf.keras.Sequential(\n",
        "    [\n",
        "        layers.Input(shape=(28, 28, 1)), #Note: reason the input is 28,28,1 is because this image is 28x28 pixels grayscale. RGB would be 28,28,3\n",
        "        layers.Conv2D(32, kernel_size=(3, 3), activation=\"relu\"),\n",
        "        layers.MaxPooling2D(pool_size=(2, 2)),\n",
        "        layers.Conv2D(64, kernel_size=(3, 3), activation=\"relu\"),\n",
        "        layers.MaxPooling2D(pool_size=(2, 2)),\n",
        "        layers.Flatten(),\n",
        "        layers.Dropout(0.3),\n",
        "        layers.Dense(10, activation=\"softmax\"),\n",
        "    ]\n",
        ")"
      ],
      "metadata": {
        "id": "MG28sKKcw5o5"
      },
      "execution_count": 7,
      "outputs": []
    },
    {
      "cell_type": "code",
      "source": [
        "# This converts the labels 0-9 to 1/0 encoded labels\n",
        "# aka 5 converts to [0,0,0,0,0,1,0,0,0,0]\n",
        "# This increases the rank of the matrix by one (expands dimension)\n",
        "#   Size of the newest dimension = highest integer of previous\n",
        "#\n",
        "# However, the default yTrain and yTest can be used with sparse categorical. Categorical just seems to be used in many examples.\n",
        "print(\"yTrain Before: \", yTrain[:10])\n",
        "print(yTrain.shape)\n",
        "yTrainCat = keras.utils.to_categorical(yTrain, 10)\n",
        "yTestCat = keras.utils.to_categorical(yTest, 10)\n",
        "print(\"Used keras.utils.to_categorical\")\n",
        "print(\"yTrainCat after: \", yTrainCat[:10])\n",
        "print(yTrainCat.shape)"
      ],
      "metadata": {
        "colab": {
          "base_uri": "https://localhost:8080/"
        },
        "id": "uIejCGMll6jT",
        "outputId": "456c05a1-9689-46f9-f19f-b7ba7a0ca5d7"
      },
      "execution_count": 8,
      "outputs": [
        {
          "output_type": "stream",
          "name": "stdout",
          "text": [
            "yTrain Before:  [5 0 4 1 9 2 1 3 1 4]\n",
            "(60000,)\n",
            "Used keras.utils.to_categorical\n",
            "yTrainCat after:  [[0. 0. 0. 0. 0. 1. 0. 0. 0. 0.]\n",
            " [1. 0. 0. 0. 0. 0. 0. 0. 0. 0.]\n",
            " [0. 0. 0. 0. 1. 0. 0. 0. 0. 0.]\n",
            " [0. 1. 0. 0. 0. 0. 0. 0. 0. 0.]\n",
            " [0. 0. 0. 0. 0. 0. 0. 0. 0. 1.]\n",
            " [0. 0. 1. 0. 0. 0. 0. 0. 0. 0.]\n",
            " [0. 1. 0. 0. 0. 0. 0. 0. 0. 0.]\n",
            " [0. 0. 0. 1. 0. 0. 0. 0. 0. 0.]\n",
            " [0. 1. 0. 0. 0. 0. 0. 0. 0. 0.]\n",
            " [0. 0. 0. 0. 1. 0. 0. 0. 0. 0.]]\n",
            "(60000, 10)\n"
          ]
        }
      ]
    },
    {
      "cell_type": "code",
      "source": [
        "batch_size = 128\n",
        "epochs = 4\n",
        "\n",
        "model.compile(loss=\"categorical_crossentropy\", optimizer=\"adam\", metrics=[\"accuracy\"])\n",
        "\n",
        "model.fit(xTrain, yTrainCat, epochs=epochs, validation_split=0.1)\n",
        "# Default batch size is 32, which is why there are 1688 per epoch with no specification (54016/32)\n",
        "# It would be 422 per epoch if batch size set to 128\n",
        "# Batch size: How often the algorithm recaculates a gradient\n",
        "  # The gradient calculated is the changes to each weight that minimizes error\n",
        "# There are 1688*32 images trained per epoch, therefore 54016 total (actually since there's 54k there's 16 as a rounding error)\n",
        "\n",
        "# Validation split: Split off a portion of the training dataset to be used for validation.\n",
        "  # With validation_split=0.1 the 60k images are separated to 54k training and 6k validation\n"
      ],
      "metadata": {
        "colab": {
          "base_uri": "https://localhost:8080/"
        },
        "id": "N5NGNphJmP_X",
        "outputId": "e20ed732-5875-4b90-a68e-c225b2d359e4"
      },
      "execution_count": 9,
      "outputs": [
        {
          "output_type": "stream",
          "name": "stdout",
          "text": [
            "Epoch 1/4\n",
            "\u001b[1m1688/1688\u001b[0m \u001b[32m━━━━━━━━━━━━━━━━━━━━\u001b[0m\u001b[37m\u001b[0m \u001b[1m14s\u001b[0m 5ms/step - accuracy: 0.8725 - loss: 0.4225 - val_accuracy: 0.9832 - val_loss: 0.0565\n",
            "Epoch 2/4\n",
            "\u001b[1m1688/1688\u001b[0m \u001b[32m━━━━━━━━━━━━━━━━━━━━\u001b[0m\u001b[37m\u001b[0m \u001b[1m5s\u001b[0m 3ms/step - accuracy: 0.9769 - loss: 0.0760 - val_accuracy: 0.9887 - val_loss: 0.0411\n",
            "Epoch 3/4\n",
            "\u001b[1m1688/1688\u001b[0m \u001b[32m━━━━━━━━━━━━━━━━━━━━\u001b[0m\u001b[37m\u001b[0m \u001b[1m12s\u001b[0m 4ms/step - accuracy: 0.9840 - loss: 0.0547 - val_accuracy: 0.9895 - val_loss: 0.0397\n",
            "Epoch 4/4\n",
            "\u001b[1m1688/1688\u001b[0m \u001b[32m━━━━━━━━━━━━━━━━━━━━\u001b[0m\u001b[37m\u001b[0m \u001b[1m7s\u001b[0m 4ms/step - accuracy: 0.9865 - loss: 0.0427 - val_accuracy: 0.9910 - val_loss: 0.0334\n"
          ]
        },
        {
          "output_type": "execute_result",
          "data": {
            "text/plain": [
              "<keras.src.callbacks.history.History at 0x7abb18d8b4d0>"
            ]
          },
          "metadata": {},
          "execution_count": 9
        }
      ]
    },
    {
      "cell_type": "code",
      "source": [
        "probability_model = tf.keras.Sequential([\n",
        "  model,\n",
        "  tf.keras.layers.Softmax()\n",
        "])"
      ],
      "metadata": {
        "id": "5GE94GNype9-"
      },
      "execution_count": 10,
      "outputs": []
    },
    {
      "cell_type": "markdown",
      "source": [
        "The below cell chooses 10 random images from the test dataset. Rerun this cell to pick 10 new random ones. The logit value format is displayed below. These values correspond to a perceived likelihood of the image being recognized as a certain number."
      ],
      "metadata": {
        "id": "jl7ImaBy0ay6"
      }
    },
    {
      "cell_type": "code",
      "source": [
        "#Just to illustrate the logit output of this model\n",
        "numImages = 10\n",
        "startIndex = random.randint(0, xTest.shape[0]-numImages-1)\n",
        "endIndex = startIndex + numImages\n",
        "logitvals = probability_model(xTest[startIndex:endIndex])\n",
        "print(f\"Chosen Images #{startIndex}-{endIndex}\\n\")\n",
        "logitvals"
      ],
      "metadata": {
        "id": "984XPYcOG4Gy",
        "colab": {
          "base_uri": "https://localhost:8080/"
        },
        "outputId": "ad0d24e0-4f7e-4c99-8cfd-9a6b8c1653c3"
      },
      "execution_count": 30,
      "outputs": [
        {
          "output_type": "stream",
          "name": "stdout",
          "text": [
            "Chosen Images #4244-4254\n",
            "\n"
          ]
        },
        {
          "output_type": "execute_result",
          "data": {
            "text/plain": [
              "<tf.Tensor: shape=(10, 10), dtype=float32, numpy=\n",
              "array([[0.08533675, 0.08533675, 0.08533675, 0.23196931, 0.08533675,\n",
              "        0.08533675, 0.08533675, 0.08533675, 0.08533675, 0.08533675],\n",
              "       [0.08533674, 0.08533674, 0.08533674, 0.08533674, 0.08533674,\n",
              "        0.08533674, 0.08533674, 0.08533674, 0.08533674, 0.2319693 ],\n",
              "       [0.08533674, 0.08533674, 0.08533674, 0.08533674, 0.08533674,\n",
              "        0.08533674, 0.08533674, 0.08533674, 0.2319693 , 0.08533674],\n",
              "       [0.08533675, 0.08533675, 0.23196931, 0.08533675, 0.08533675,\n",
              "        0.08533675, 0.08533675, 0.08533675, 0.08533675, 0.08533675],\n",
              "       [0.08533674, 0.08533674, 0.08533674, 0.08533674, 0.08533674,\n",
              "        0.08533674, 0.08533674, 0.08533674, 0.2319693 , 0.08533674],\n",
              "       [0.08533675, 0.23196931, 0.08533675, 0.08533675, 0.08533675,\n",
              "        0.08533675, 0.08533675, 0.08533675, 0.08533675, 0.08533675],\n",
              "       [0.08533675, 0.08533675, 0.23196931, 0.08533675, 0.08533675,\n",
              "        0.08533675, 0.08533675, 0.08533675, 0.08533675, 0.08533675],\n",
              "       [0.08533674, 0.08533674, 0.08533674, 0.08533674, 0.08533674,\n",
              "        0.08533674, 0.08533674, 0.08533674, 0.2319693 , 0.08533674],\n",
              "       [0.08533675, 0.08533675, 0.08533675, 0.08533675, 0.08533675,\n",
              "        0.08533675, 0.23196931, 0.08533675, 0.08533675, 0.08533675],\n",
              "       [0.08533674, 0.08533674, 0.08533674, 0.08533674, 0.08533674,\n",
              "        0.08533674, 0.08533674, 0.08533674, 0.2319693 , 0.08533674]],\n",
              "      dtype=float32)>"
            ]
          },
          "metadata": {},
          "execution_count": 30
        }
      ]
    },
    {
      "cell_type": "markdown",
      "source": [
        "Now I pick 10 random images from the test dataset and see if the Convolutional Neural Network model gets them right! It should get them right about 99% of the time, so it can be hard to find incorrect cases. And in my opinion, most of the cases it gets wrong would be hard even for me..."
      ],
      "metadata": {
        "id": "7hgp1-BvnnpU"
      }
    },
    {
      "cell_type": "code",
      "source": [
        "# Determining prediction based on the most likely estimate from logitvals\n",
        "predictions=[None]*10\n",
        "for i in range(0,10):\n",
        "  predictions[i] = tf.argmax(logitvals[i])\n",
        "\n",
        "# Displaying with pyplot\n",
        "xTest_inverted = 255-xTest\n",
        "print(f\"Chosen Images #{startIndex}-{endIndex}\\n\")\n",
        "plt.figure(figsize=(10,5))\n",
        "plt.suptitle(\"Test Images and Predictions\", fontsize=16, y=1.05)\n",
        "for i in range(numImages):\n",
        "  plt.subplot(2,5,i+1)\n",
        "  plt.grid(False)\n",
        "  plt.xticks([])\n",
        "  plt.yticks([])\n",
        "  plt.imshow(xTest_inverted[startIndex+i], cmap='gray')\n",
        "  #plt.colorbar() #turned off for now\n",
        "  true_label = yTest[startIndex + i]\n",
        "  prediction = predictions[i].numpy()\n",
        "  result = \"Correct\" if true_label == prediction else \"Incorrect\"\n",
        "  plt.title(f\"Label: {true_label}\\nPrediction: {prediction}\\n{result}\")\n",
        "\n"
      ],
      "metadata": {
        "id": "X4JxGS3Agq7o",
        "colab": {
          "base_uri": "https://localhost:8080/",
          "height": 521
        },
        "outputId": "1e45ea90-c897-4fb6-d70a-60a121ac5fdc"
      },
      "execution_count": 45,
      "outputs": [
        {
          "output_type": "stream",
          "name": "stdout",
          "text": [
            "Chosen Images #4244-4254\n",
            "\n"
          ]
        },
        {
          "output_type": "display_data",
          "data": {
            "text/plain": [
              "<Figure size 1000x500 with 10 Axes>"
            ],
            "image/png": "[encoded data removed]"
          },
          "metadata": {}
        }
      ]
    },
    {
      "cell_type": "code",
      "source": [
        "# Some testing to get the above plot working correctly\n",
        "nextline_val = (len(predictions)+1)//2\n",
        "print(\"Neural Network Predictions:\")\n",
        "for i,val in enumerate(predictions):\n",
        "  if i==nextline_val: print()\n",
        "  print(val.numpy(), end=\" \")\n",
        "print()\n",
        "#\n",
        "matches = yTest[startIndex:startIndex + numImages] == np.array(predictions)\n",
        "\n",
        "# Reshape the matches into a 2x5 matrix for easier viewing\n",
        "match_matrix = matches.reshape(2, 5)\n",
        "\n",
        "# Print the match matrix\n",
        "\n",
        "print(\"Match Matrix (True = match, False = mismatch):\")\n",
        "print(match_matrix)"
      ],
      "metadata": {
        "colab": {
          "base_uri": "https://localhost:8080/"
        },
        "id": "vMAu0sZpLZ0m",
        "outputId": "55096c28-b627-4462-8e74-6f4279e2ca2a"
      },
      "execution_count": 46,
      "outputs": [
        {
          "output_type": "stream",
          "name": "stdout",
          "text": [
            "Neural Network Predictions:\n",
            "3 9 8 2 8 \n",
            "1 2 8 6 8 \n",
            "Match Matrix (True = match, False = mismatch):\n",
            "[[ True  True  True  True False]\n",
            " [ True  True  True  True  True]]\n"
          ]
        }
      ]
    }
  ]
}